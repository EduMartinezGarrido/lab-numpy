{
 "cells": [
  {
   "cell_type": "code",
   "execution_count": 9,
   "metadata": {},
   "outputs": [],
   "source": [
    "#1. Import the NUMPY package under the name np...\n",
    "import numpy as np"
   ]
  },
  {
   "cell_type": "code",
   "execution_count": 10,
   "metadata": {},
   "outputs": [
    {
     "name": "stdout",
     "output_type": "stream",
     "text": [
      "1.19.2\n"
     ]
    }
   ],
   "source": [
    "#2. Print the NUMPY version and the configuration.\n",
    "print(np.__version__)"
   ]
  },
  {
   "cell_type": "code",
   "execution_count": 11,
   "metadata": {},
   "outputs": [],
   "source": [
    "#3. Generate a 2x3x5 3-dimensional array with random values. Assign the array to variable \"a\"\n",
    "# Challenge: there are at least three easy ways that use numpy to generate random arrays. How many ways can you find?\n",
    "\n",
    "a = np.random.rand(2,3,5).round(2)"
   ]
  },
  {
   "cell_type": "code",
   "execution_count": 12,
   "metadata": {},
   "outputs": [
    {
     "name": "stdout",
     "output_type": "stream",
     "text": [
      "[[[0.7  0.99 0.47 0.29 0.82]\n",
      "  [0.98 0.24 0.27 0.55 0.41]\n",
      "  [0.47 0.37 0.24 0.96 0.32]]\n",
      "\n",
      " [[0.33 0.4  0.22 0.37 0.11]\n",
      "  [1.   0.42 0.18 0.78 0.4 ]\n",
      "  [0.7  0.08 0.24 0.69 0.41]]]\n"
     ]
    }
   ],
   "source": [
    "#4. Print a.\n",
    "print(a)"
   ]
  },
  {
   "cell_type": "code",
   "execution_count": 13,
   "metadata": {},
   "outputs": [],
   "source": [
    "#5. Create a 5x2x3 3-dimensional array with all values equaling 1.\n",
    "#Assign the array to variable \"b\"\n",
    "\n",
    "b = np.ones((5,2,3))"
   ]
  },
  {
   "cell_type": "code",
   "execution_count": 14,
   "metadata": {},
   "outputs": [
    {
     "name": "stdout",
     "output_type": "stream",
     "text": [
      "[[[1. 1. 1.]\n",
      "  [1. 1. 1.]]\n",
      "\n",
      " [[1. 1. 1.]\n",
      "  [1. 1. 1.]]\n",
      "\n",
      " [[1. 1. 1.]\n",
      "  [1. 1. 1.]]\n",
      "\n",
      " [[1. 1. 1.]\n",
      "  [1. 1. 1.]]\n",
      "\n",
      " [[1. 1. 1.]\n",
      "  [1. 1. 1.]]]\n"
     ]
    }
   ],
   "source": [
    "#6. Print b.\n",
    "print(b)"
   ]
  },
  {
   "cell_type": "code",
   "execution_count": 15,
   "metadata": {},
   "outputs": [
    {
     "name": "stdout",
     "output_type": "stream",
     "text": [
      "30\n",
      "30\n"
     ]
    }
   ],
   "source": [
    "#7. Do a and b have the same size? How do you prove that in Python code?\n",
    "print(a.size)\n",
    "print(b.size)\n",
    "\n",
    "#In python we use len()"
   ]
  },
  {
   "cell_type": "code",
   "execution_count": 16,
   "metadata": {},
   "outputs": [
    {
     "ename": "ValueError",
     "evalue": "all the input array dimensions for the concatenation axis must match exactly, but along dimension 1, the array at index 0 has size 3 and the array at index 1 has size 2",
     "output_type": "error",
     "traceback": [
      "\u001b[0;31m---------------------------------------------------------------------------\u001b[0m",
      "\u001b[0;31mValueError\u001b[0m                                Traceback (most recent call last)",
      "\u001b[0;32m<ipython-input-16-b7d08573bdab>\u001b[0m in \u001b[0;36m<module>\u001b[0;34m\u001b[0m\n\u001b[1;32m      1\u001b[0m \u001b[0;31m#8. Are you able to add a and b? Why or why not?\u001b[0m\u001b[0;34m\u001b[0m\u001b[0;34m\u001b[0m\u001b[0;34m\u001b[0m\u001b[0m\n\u001b[0;32m----> 2\u001b[0;31m \u001b[0mnp\u001b[0m\u001b[0;34m.\u001b[0m\u001b[0mconcatenate\u001b[0m\u001b[0;34m(\u001b[0m\u001b[0;34m(\u001b[0m\u001b[0ma\u001b[0m\u001b[0;34m,\u001b[0m\u001b[0mb\u001b[0m\u001b[0;34m)\u001b[0m\u001b[0;34m)\u001b[0m\u001b[0;34m\u001b[0m\u001b[0;34m\u001b[0m\u001b[0m\n\u001b[0m\u001b[1;32m      3\u001b[0m \u001b[0;31m#all the input array dimensions for the concatenation axis must match exactly\u001b[0m\u001b[0;34m\u001b[0m\u001b[0;34m\u001b[0m\u001b[0;34m\u001b[0m\u001b[0m\n",
      "\u001b[0;32m<__array_function__ internals>\u001b[0m in \u001b[0;36mconcatenate\u001b[0;34m(*args, **kwargs)\u001b[0m\n",
      "\u001b[0;31mValueError\u001b[0m: all the input array dimensions for the concatenation axis must match exactly, but along dimension 1, the array at index 0 has size 3 and the array at index 1 has size 2"
     ]
    }
   ],
   "source": [
    "#8. Are you able to add a and b? Why or why not?\n",
    "np.concatenate((a,b))\n",
    "#all the input array dimensions for the concatenation axis must match exactly"
   ]
  },
  {
   "cell_type": "code",
   "execution_count": 17,
   "metadata": {},
   "outputs": [],
   "source": [
    "#9. Transpose b so that it has the same structure of a (i.e. become a 2x3x5 array). Assign the transposed array to varialbe \"c\".\n",
    "\n",
    "c = b.transpose(1,2,0)\n"
   ]
  },
  {
   "cell_type": "code",
   "execution_count": 18,
   "metadata": {},
   "outputs": [],
   "source": [
    "#10. Try to add a and c. Now it should work. Assign the sum to varialbe \"d\". But why does it work now?\n",
    "d = a+c\n",
    "# It has the same dimension"
   ]
  },
  {
   "cell_type": "code",
   "execution_count": 19,
   "metadata": {},
   "outputs": [
    {
     "name": "stdout",
     "output_type": "stream",
     "text": [
      "[[[0.7  0.99 0.47 0.29 0.82]\n",
      "  [0.98 0.24 0.27 0.55 0.41]\n",
      "  [0.47 0.37 0.24 0.96 0.32]]\n",
      "\n",
      " [[0.33 0.4  0.22 0.37 0.11]\n",
      "  [1.   0.42 0.18 0.78 0.4 ]\n",
      "  [0.7  0.08 0.24 0.69 0.41]]]\n",
      "[[[1.7  1.99 1.47 1.29 1.82]\n",
      "  [1.98 1.24 1.27 1.55 1.41]\n",
      "  [1.47 1.37 1.24 1.96 1.32]]\n",
      "\n",
      " [[1.33 1.4  1.22 1.37 1.11]\n",
      "  [2.   1.42 1.18 1.78 1.4 ]\n",
      "  [1.7  1.08 1.24 1.69 1.41]]]\n"
     ]
    }
   ],
   "source": [
    "#11. Print a and d. Notice the difference and relation of the two array in terms of the values? Explain.\n",
    "print(a)\n",
    "print(d)"
   ]
  },
  {
   "cell_type": "code",
   "execution_count": 20,
   "metadata": {},
   "outputs": [
    {
     "data": {
      "text/plain": [
       "array([[[0.7 , 0.99, 0.47, 0.29, 0.82],\n",
       "        [0.98, 0.24, 0.27, 0.55, 0.41],\n",
       "        [0.47, 0.37, 0.24, 0.96, 0.32]],\n",
       "\n",
       "       [[0.33, 0.4 , 0.22, 0.37, 0.11],\n",
       "        [1.  , 0.42, 0.18, 0.78, 0.4 ],\n",
       "        [0.7 , 0.08, 0.24, 0.69, 0.41]]])"
      ]
     },
     "execution_count": 20,
     "metadata": {},
     "output_type": "execute_result"
    }
   ],
   "source": [
    "#12. Multiply a and c. Assign the result to e.\n",
    "e = a*c\n",
    "e"
   ]
  },
  {
   "cell_type": "code",
   "execution_count": 21,
   "metadata": {},
   "outputs": [
    {
     "name": "stdout",
     "output_type": "stream",
     "text": [
      "30\n",
      "30\n"
     ]
    }
   ],
   "source": [
    "#13. Does e equal to a? Why or why not?\n",
    "print(a.size)\n",
    "print(e.size)\n",
    "#Yes it does. Variable \"c\" is one, so \"e\" will be the same variable as \"a\""
   ]
  },
  {
   "cell_type": "code",
   "execution_count": 22,
   "metadata": {},
   "outputs": [],
   "source": [
    "#14. Identify the max, min, and mean values in d. Assign those values to variables \"d_max\", \"d_min\", and \"d_mean\"\n",
    "d_max = d.max()\n",
    "d_min = d.min()\n",
    "d_mean = d.mean()"
   ]
  },
  {
   "cell_type": "code",
   "execution_count": 23,
   "metadata": {},
   "outputs": [],
   "source": [
    "#15. Now we want to label the values in d. First create an empty array \"f\" with the same shape (i.e. 2x3x5) as d using `np.empty`.\n",
    "f = np.empty((2,3,5))"
   ]
  },
  {
   "cell_type": "code",
   "execution_count": 24,
   "metadata": {},
   "outputs": [
    {
     "ename": "SyntaxError",
     "evalue": "invalid syntax (<ipython-input-24-2656b6303ced>, line 2)",
     "output_type": "error",
     "traceback": [
      "\u001b[0;36m  File \u001b[0;32m\"<ipython-input-24-2656b6303ced>\"\u001b[0;36m, line \u001b[0;32m2\u001b[0m\n\u001b[0;31m    If a value in d is larger than d_mean but smaller than d_max, assign 75 to the corresponding value in f.\u001b[0m\n\u001b[0m       ^\u001b[0m\n\u001b[0;31mSyntaxError\u001b[0m\u001b[0;31m:\u001b[0m invalid syntax\n"
     ]
    }
   ],
   "source": [
    "#16. Populate the values in f. For each value in d, if it's larger than d_min but smaller than d_mean, assign 25 to the corresponding value in f.\n",
    "If a value in d is larger than d_mean but smaller than d_max, assign 75 to the corresponding value in f.\n",
    "If a value equals to d_mean, assign 50 to the corresponding value in f.\n",
    "Assign 0 to the corresponding value(s) in f for d_min in d.\n",
    "Assign 100 to the corresponding value(s) in f for d_max in d.\n",
    "In the end, f should have only the following values: 0, 25, 50, 75, and 100.\n",
    "Note: you don't have to use Numpy in this question."
   ]
  },
  {
   "cell_type": "code",
   "execution_count": 25,
   "metadata": {
    "scrolled": true
   },
   "outputs": [
    {
     "data": {
      "text/plain": [
       "'\\ncondicion1 = d[(d>d_min)]\\ncondicion2 = d[(d<d_mean)]\\nf = np.putmask(d,(condicion1 and condicion2).any(),25)\\nprint(f)'"
      ]
     },
     "execution_count": 25,
     "metadata": {},
     "output_type": "execute_result"
    }
   ],
   "source": [
    "#funcion putmask\n",
    "'''\n",
    "condicion1 = d[(d>d_min)]\n",
    "condicion2 = d[(d<d_mean)]\n",
    "f = np.putmask(d,(condicion1 and condicion2).any(),25)\n",
    "print(f)'''"
   ]
  },
  {
   "cell_type": "code",
   "execution_count": 26,
   "metadata": {},
   "outputs": [],
   "source": [
    "lista_vacia = []\n",
    "for i in d:\n",
    "    for s in i:\n",
    "        for n in s:\n",
    "            if n > d_min and n < d_mean:\n",
    "                lista_vacia.append(25)\n",
    "            elif n > d_mean and n < d_max:\n",
    "                lista_vacia.append(75)\n",
    "            elif n == d_mean:\n",
    "                lista_vacia.append(50)\n",
    "            elif n == d_min:\n",
    "                lista_vacia.append(0)\n",
    "            elif n == d_max:\n",
    "                lista_vacia.append(100)\n",
    "                \n",
    "            \n",
    "            "
   ]
  },
  {
   "cell_type": "code",
   "execution_count": 27,
   "metadata": {
    "scrolled": true
   },
   "outputs": [
    {
     "name": "stdout",
     "output_type": "stream",
     "text": [
      "[75, 75, 25, 25, 75, 75, 25, 25, 75, 25, 25, 25, 25, 75, 25, 25, 25, 25, 25, 25, 100, 25, 25, 75, 25, 75, 0, 25, 75, 25]\n"
     ]
    }
   ],
   "source": [
    "print(lista_vacia)"
   ]
  },
  {
   "cell_type": "code",
   "execution_count": 28,
   "metadata": {},
   "outputs": [
    {
     "data": {
      "text/plain": [
       "array([ 75,  75,  25,  25,  75,  75,  25,  25,  75,  25,  25,  25,  25,\n",
       "        75,  25,  25,  25,  25,  25,  25, 100,  25,  25,  75,  25,  75,\n",
       "         0,  25,  75,  25])"
      ]
     },
     "execution_count": 28,
     "metadata": {},
     "output_type": "execute_result"
    }
   ],
   "source": [
    "F= np.array(lista_vacia)\n",
    "F"
   ]
  },
  {
   "cell_type": "code",
   "execution_count": 34,
   "metadata": {
    "scrolled": true
   },
   "outputs": [
    {
     "name": "stdout",
     "output_type": "stream",
     "text": [
      "[[[1.7  1.99 1.47 1.29 1.82]\n",
      "  [1.98 1.24 1.27 1.55 1.41]\n",
      "  [1.47 1.37 1.24 1.96 1.32]]\n",
      "\n",
      " [[1.33 1.4  1.22 1.37 1.11]\n",
      "  [2.   1.42 1.18 1.78 1.4 ]\n",
      "  [1.7  1.08 1.24 1.69 1.41]]]\n",
      " \n",
      " \n",
      " \n",
      "[]\n"
     ]
    }
   ],
   "source": [
    "#17. Print d and f. Do you have your expected f?\n",
    "print(d)\n",
    "print(\" \")\n",
    "print(\" \")\n",
    "print(\" \")\n",
    "print(F)\n"
   ]
  },
  {
   "cell_type": "code",
   "execution_count": 33,
   "metadata": {},
   "outputs": [
    {
     "name": "stdout",
     "output_type": "stream",
     "text": [
      "[]\n"
     ]
    }
   ],
   "source": [
    "#18. Bonus question: instead of using numbers (i.e. 0, 25, 50, 75, and 100), how to use string values\n",
    "lista_letras = []\n",
    "for i in F:\n",
    "    if i == 0:\n",
    "        lista_letras.append(\"A\")\n",
    "    elif i == 25:\n",
    "        lista_letras.append(\"B\")\n",
    "    elif i == 50:\n",
    "        lista_letras.append(\"C\")\n",
    "    elif i == 75:\n",
    "        lista_letras.append(\"D\")\n",
    "    elif i == 100:\n",
    "        lista_letras.append(\"E\")\n",
    "        \n",
    "print(lista_letras)\n",
    "#F = np.array(lista_letras)\n",
    "#print(F.reshape(2,3,5))\n"
   ]
  },
  {
   "cell_type": "code",
   "execution_count": null,
   "metadata": {},
   "outputs": [],
   "source": []
  },
  {
   "cell_type": "code",
   "execution_count": null,
   "metadata": {},
   "outputs": [],
   "source": []
  }
 ],
 "metadata": {
  "kernelspec": {
   "display_name": "Python 3",
   "language": "python",
   "name": "python3"
  },
  "language_info": {
   "codemirror_mode": {
    "name": "ipython",
    "version": 3
   },
   "file_extension": ".py",
   "mimetype": "text/x-python",
   "name": "python",
   "nbconvert_exporter": "python",
   "pygments_lexer": "ipython3",
   "version": "3.8.5"
  }
 },
 "nbformat": 4,
 "nbformat_minor": 4
}
